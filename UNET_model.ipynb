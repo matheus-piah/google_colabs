{
  "nbformat": 4,
  "nbformat_minor": 0,
  "metadata": {
    "colab": {
      "name": "UNET-UdemyClass.ipynb",
      "provenance": [],
      "authorship_tag": "ABX9TyNkQSpJplrqGRlZzwJWRZwn",
      "include_colab_link": true
    },
    "kernelspec": {
      "name": "python3",
      "display_name": "Python 3"
    },
    "language_info": {
      "name": "python"
    }
  },
  "cells": [
    {
      "cell_type": "markdown",
      "metadata": {
        "id": "view-in-github",
        "colab_type": "text"
      },
      "source": [
        "<a href=\"https://colab.research.google.com/github/matheus-piah/google_colabs/blob/main/UNET_model.ipynb\" target=\"_parent\"><img src=\"https://colab.research.google.com/assets/colab-badge.svg\" alt=\"Open In Colab\"/></a>"
      ]
    },
    {
      "cell_type": "markdown",
      "source": [
        "##Create the UNet Class and Convolutions"
      ],
      "metadata": {
        "id": "mxQ7FEZfCDRj"
      }
    },
    {
      "cell_type": "code",
      "source": [
        "import torch\n",
        "from google.colab import drive\n",
        "\n",
        "drive.mount('/content/drive')"
      ],
      "metadata": {
        "id": "g6c63Tbzugb9",
        "colab": {
          "base_uri": "https://localhost:8080/"
        },
        "outputId": "49b75a66-a313-41f3-b446-163710f1221e"
      },
      "execution_count": 4,
      "outputs": [
        {
          "output_type": "stream",
          "name": "stdout",
          "text": [
            "Mounted at /content/drive\n"
          ]
        }
      ]
    },
    {
      "cell_type": "code",
      "source": [
        "class DoubleConv(torch.nn.Module):\n",
        "  def __init__(self, in_channels,out_channels):\n",
        "      super().__init__()\n",
        "      self.step = torch.nn.Sequential(torch.nn.Conv2d(in_channels, out_channels, 3, padding=1),\n",
        "                                      torch.nn.ReLU(),\n",
        "                                      torch.nn.Conv2d(out_channels, out_channels,3, padding=1),\n",
        "                                      torch.nn.ReLU())\n",
        "      def forward(self, X):\n",
        "        return self.step(X)\n",
        "        "
      ],
      "metadata": {
        "id": "0gLtod7luiVx"
      },
      "execution_count": 6,
      "outputs": []
    },
    {
      "cell_type": "code",
      "source": [
        "class UNet(torch.nn.Module):\n",
        "# This class implements a UNet for the Segmentation\n",
        "# We use 3 down- and 3 UpConvolutions and 2 Convolutions in each step\n",
        "\n",
        "  def __init__(self):\n",
        "    # Sets up the U-Net Structure\n",
        "    super().__init__()\n",
        "    \n",
        "    ######## Down\n",
        "    self.layer1 = DoubleConv(1,64)\n",
        "    self.layer2 = DoubleConv(64,128)\n",
        "    self.layer3 = DoubleConv(128,256)\n",
        "    self.layer4 = DoubleConv(256,512)\n",
        "\n",
        "    ######## Up\n",
        "    self.layer5 = DoubleConv(512+256,256)\n",
        "    self.layer6 = DoubleConv(256+128,128)\n",
        "    self.layer7 = DoubleConv(128+64,64)\n",
        "    self.layer8 = torch.nn.Conv2d(64,1,1)\n",
        "\n",
        "    self.maxpool = torch.nn.MaxPool2d(2)\n",
        "  \n",
        "  def forward(self, x):\n",
        "    \n",
        "    # DownConv 1\n",
        "    x1 = self.layer1(x)\n",
        "    x1m = self.maxpool(x1)\n",
        "\n",
        "    # DownConv 2\n",
        "    x2 = self.layer2(x1m)\n",
        "    x2m = self.maxpool(x2)\n",
        "\n",
        "    # DownConv 3\n",
        "    x3 = self.layer3(x2m)\n",
        "    x3m = self.maxpool(x3)\n",
        "\n",
        "    # Intermediate Layer\n",
        "    x4 = self.layer4(x3m)\n",
        "\n",
        "    # UpConv1\n",
        "    x5 = torch.nn.Upsample(scale_factor=2, mode='bilinear')(x4)\n",
        "    x5 = torch.cat([x5,x3], dim=1)\n",
        "    x5 = self.layer5(x5)\n",
        "\n",
        "    # UpConv 2\n",
        "    x6 = torch.nn.Upsample(scale_factor=2, mode='bilinear')(x5)\n",
        "    x6 = torch.cat([x6,x2], dim=1)\n",
        "    x6 = self.layer6(x6)\n",
        "\n",
        "    # UpConv3\n",
        "    x7 = torch.nn.Upsample(scale_factor=2, mode='bilinear')(x6)\n",
        "    x7 = torch.cat([x7,x1], dim=1)\n",
        "    x7 = self.layer7(x7)\n",
        "\n",
        "    # Predicted Segmentation\n",
        "    ret = self.layer8(x7)\n",
        "    return ret"
      ],
      "metadata": {
        "id": "FXjl4EfdvpY9"
      },
      "execution_count": 14,
      "outputs": []
    }
  ]
}