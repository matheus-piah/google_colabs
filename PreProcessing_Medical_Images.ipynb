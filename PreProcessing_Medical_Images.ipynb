{
  "nbformat": 4,
  "nbformat_minor": 0,
  "metadata": {
    "colab": {
      "name": "PreProcessing_Medical_Images.ipynb",
      "provenance": [],
      "collapsed_sections": [],
      "authorship_tag": "ABX9TyNUKQ5uD9vfhR9d3rEwpAbM",
      "include_colab_link": true
    },
    "kernelspec": {
      "name": "python3",
      "display_name": "Python 3"
    },
    "language_info": {
      "name": "python"
    }
  },
  "cells": [
    {
      "cell_type": "markdown",
      "metadata": {
        "id": "view-in-github",
        "colab_type": "text"
      },
      "source": [
        "<a href=\"https://colab.research.google.com/github/matheus-piah/google_colabs/blob/main/PreProcessing_Medical_Images.ipynb\" target=\"_parent\"><img src=\"https://colab.research.google.com/assets/colab-badge.svg\" alt=\"Open In Colab\"/></a>"
      ]
    },
    {
      "cell_type": "markdown",
      "source": [
        "# Algorithm Pre Process Dicom Images"
      ],
      "metadata": {
        "id": "Atg_zd6ZTRtj"
      }
    },
    {
      "cell_type": "markdown",
      "source": [
        "## Pydicom Install"
      ],
      "metadata": {
        "id": "5xlRMTSeT5v8"
      }
    },
    {
      "cell_type": "code",
      "execution_count": null,
      "metadata": {
        "colab": {
          "base_uri": "https://localhost:8080/"
        },
        "id": "pqqqrui8TPI5",
        "outputId": "07ea638b-6626-42c3-add7-adf6a5310480"
      },
      "outputs": [
        {
          "output_type": "stream",
          "name": "stdout",
          "text": [
            "Requirement already satisfied: pydicom in /usr/local/lib/python3.7/dist-packages (2.3.0)\n",
            "\u001b[31mERROR: Could not find a version that satisfies the requirement cv2 (from versions: none)\u001b[0m\n",
            "\u001b[31mERROR: No matching distribution found for cv2\u001b[0m\n"
          ]
        }
      ],
      "source": [
        "!pip install pydicom\n"
      ]
    },
    {
      "cell_type": "markdown",
      "source": [
        "# Import Libraries"
      ],
      "metadata": {
        "id": "rEHrAuVpUBro"
      }
    },
    {
      "cell_type": "code",
      "source": [
        "import pydicom\n",
        "import numpy as np\n",
        "import cv2\n",
        "import pylab\n",
        "import math\n",
        "from skimage import morphology\n",
        "from scipy import ndimage\n",
        "from google.colab import drive\n",
        "from matplotlib import pyplot as plt\n",
        "\n",
        "\n",
        "drive.mount('/content/drive')\n"
      ],
      "metadata": {
        "colab": {
          "base_uri": "https://localhost:8080/"
        },
        "id": "D2dxRRcLUAXC",
        "outputId": "0915e1bf-64d2-4466-fcd1-97e65523d548"
      },
      "execution_count": null,
      "outputs": [
        {
          "output_type": "stream",
          "name": "stdout",
          "text": [
            "Drive already mounted at /content/drive; to attempt to forcibly remount, call drive.mount(\"/content/drive\", force_remount=True).\n"
          ]
        }
      ]
    },
    {
      "cell_type": "markdown",
      "source": [
        "## Importar Imagem"
      ],
      "metadata": {
        "id": "cYKyi_xGfQ23"
      }
    },
    {
      "cell_type": "code",
      "source": [
        "file_path = '/content/drive/My Drive/Colab Notebooks/ct_imagem_covid_teste.dcm'\n",
        "medical_image = pydicom.read_file(file_path)\n",
        "print(medical_image)\n"
      ],
      "metadata": {
        "colab": {
          "base_uri": "https://localhost:8080/"
        },
        "id": "3O_R27FUUMsC",
        "outputId": "e8b37654-9224-4058-8871-37a14c6c8a1a"
      },
      "execution_count": null,
      "outputs": [
        {
          "output_type": "stream",
          "name": "stdout",
          "text": [
            "Dataset.file_meta -------------------------------\n",
            "(0002, 0000) File Meta Information Group Length  UL: 184\n",
            "(0002, 0001) File Meta Information Version       OB: b'\\x00\\x01'\n",
            "(0002, 0002) Media Storage SOP Class UID         UI: CT Image Storage\n",
            "(0002, 0003) Media Storage SOP Instance UID      UI: 1.2.392.200036.9116.2.6.1.37.2420784519.1586489593.394652\n",
            "(0002, 0010) Transfer Syntax UID                 UI: Explicit VR Little Endian\n",
            "(0002, 0012) Implementation Class UID            UI: 1.3.6.1.4.1.32203\n",
            "(0002, 0013) Implementation Version Name         SH: 'PIXEON'\n",
            "-------------------------------------------------\n",
            "(0008, 0008) Image Type                          CS: ['ORIGINAL', 'PRIMARY', 'AXIAL']\n",
            "(0008, 0016) SOP Class UID                       UI: CT Image Storage\n",
            "(0008, 0018) SOP Instance UID                    UI: 1.2.392.200036.9116.2.6.1.37.2420784519.1586489593.394652\n",
            "(0008, 0020) Study Date                          DA: '20200410'\n",
            "(0008, 0021) Series Date                         DA: '20200410'\n",
            "(0008, 0022) Acquisition Date                    DA: '20200410'\n",
            "(0008, 0023) Content Date                        DA: '20200410'\n",
            "(0008, 0030) Study Time                          TM: '123029.000'\n",
            "(0008, 0031) Series Time                         TM: '123310.109'\n",
            "(0008, 0032) Acquisition Time                    TM: '123240.350'\n",
            "(0008, 0033) Content Time                        TM: '123245.225'\n",
            "(0008, 0050) Accession Number                    SH: '3159242'\n",
            "(0008, 0060) Modality                            CS: 'CT'\n",
            "(0008, 0070) Manufacturer                        LO: 'TOSHIBA'\n",
            "(0008, 0080) Institution Name                    LO: 'HOSP.UNIV.DE BOTUCATU'\n",
            "(0008, 0090) Referring Physician's Name          PN: 'ANDRESSA LIZ CANDIDO'\n",
            "(0008, 1010) Station Name                        SH: 'TOSHIBA2'\n",
            "(0008, 1030) Study Description                   LO: 'TC TORAX'\n",
            "(0008, 103e) Series Description                  LO: ' Lung 5.0 Contraste /Sem'\n",
            "(0008, 1040) Institutional Department Name       LO: 'ID_DEPARTMENT'\n",
            "(0008, 1090) Manufacturer's Model Name           LO: 'Activion16'\n",
            "(0008, 2111) Derivation Description              ST: 'Lossless JPEG compression, selection value 1, point transform 0, compression ratio 1.9924'\n",
            "(0008, 9215)  Derivation Code Sequence  1 item(s) ---- \n",
            "   (0008, 0100) Code Value                          SH: '121327'\n",
            "   (0008, 0102) Coding Scheme Designator            SH: 'DCM'\n",
            "   (0008, 0104) Code Meaning                        LO: 'Full fidelity image, uncompressed or lossless compressed'\n",
            "   ---------\n",
            "(0010, 0010) Patient's Name                      PN: 'ILSA BOKERMANN GUERRA'\n",
            "(0010, 0020) Patient ID                          LO: '17982'\n",
            "(0010, 0030) Patient's Birth Date                DA: '19360412'\n",
            "(0010, 0040) Patient's Sex                       CS: 'F'\n",
            "(0010, 1010) Patient's Age                       AS: '083Y'\n",
            "(0018, 0022) Scan Options                        CS: 'HELICAL_CT'\n",
            "(0018, 0050) Slice Thickness                     DS: '5.0'\n",
            "(0018, 0060) KVP                                 DS: '120.0'\n",
            "(0018, 0090) Data Collection Diameter            DS: '500.0'\n",
            "(0018, 1000) Device Serial Number                LO: '1CC1283471'\n",
            "(0018, 1020) Software Versions                   LO: 'V3.38ER007'\n",
            "(0018, 1030) Protocol Name                       LO: 'Torax S/Contraste E.V.'\n",
            "(0018, 1100) Reconstruction Diameter             DS: '355.468'\n",
            "(0018, 1120) Gantry/Detector Tilt                DS: '0.0'\n",
            "(0018, 1130) Table Height                        DS: '99.0'\n",
            "(0018, 1140) Rotation Direction                  CS: 'CW'\n",
            "(0018, 1150) Exposure Time                       IS: '750'\n",
            "(0018, 1151) X-Ray Tube Current                  IS: '110'\n",
            "(0018, 1152) Exposure                            IS: '82'\n",
            "(0018, 1160) Filter Type                         SH: 'EC'\n",
            "(0018, 1170) Generator Power                     IS: '13'\n",
            "(0018, 1210) Convolution Kernel                  SH: 'FC52'\n",
            "(0018, 5100) Patient Position                    CS: 'FFS'\n",
            "(0018, 9323) Exposure Modulation Type            CS: '3D'\n",
            "(0018, 9324) Estimated Dose Saving               FD: 25.63\n",
            "(0018, 9345) CTDIvol                             FD: 20.2\n",
            "(0020, 000d) Study Instance UID                  UI: 1.2.392.200036.9116.2.6.1.37.2420784519.1586489321.879050\n",
            "(0020, 000e) Series Instance UID                 UI: 1.2.392.200036.9116.2.6.1.37.2420784519.1586489590.861339\n",
            "(0020, 0010) Study ID                            SH: '1'\n",
            "(0020, 0011) Series Number                       IS: '3'\n",
            "(0020, 0012) Acquisition Number                  IS: '3'\n",
            "(0020, 0013) Instance Number                     IS: '17'\n",
            "(0020, 0020) Patient Orientation                 CS: ['L', 'P']\n",
            "(0020, 0032) Image Position (Patient)            DS: [-224.6093, -166.9921, -24.0000]\n",
            "(0020, 0037) Image Orientation (Patient)         DS: [1.00000, 0.00000, 0.00000, 0.00000, 1.00000, 0.00000]\n",
            "(0020, 0052) Frame of Reference UID              UI: 1.2.392.200036.9116.2.6.1.37.2420784519.1586489465.686384\n",
            "(0020, 1040) Position Reference Indicator        LO: ''\n",
            "(0020, 1041) Slice Location                      DS: '80.0'\n",
            "(0020, 4000) Image Comments                      LT: 'Contraste \\\\Sem'\n",
            "(0028, 0002) Samples per Pixel                   US: 1\n",
            "(0028, 0004) Photometric Interpretation          CS: 'MONOCHROME2'\n",
            "(0028, 0008) Number of Frames                    IS: '1'\n",
            "(0028, 0010) Rows                                US: 512\n",
            "(0028, 0011) Columns                             US: 512\n",
            "(0028, 0030) Pixel Spacing                       DS: [0.694, 0.694]\n",
            "(0028, 0100) Bits Allocated                      US: 16\n",
            "(0028, 0101) Bits Stored                         US: 16\n",
            "(0028, 0102) High Bit                            US: 15\n",
            "(0028, 0103) Pixel Representation                US: 1\n",
            "(0028, 1050) Window Center                       DS: '-700.0'\n",
            "(0028, 1051) Window Width                        DS: '1600.0'\n",
            "(0028, 1052) Rescale Intercept                   DS: '0.0'\n",
            "(0028, 1053) Rescale Slope                       DS: '1.0'\n",
            "(0040, 0002) Scheduled Procedure Step Start Date DA: '20200410'\n",
            "(0040, 0003) Scheduled Procedure Step Start Time TM: '113500'\n",
            "(0040, 0004) Scheduled Procedure Step End Date   DA: '20200410'\n",
            "(0040, 0005) Scheduled Procedure Step End Time   TM: '120500.000'\n",
            "(0040, 0244) Performed Procedure Step Start Date DA: '20200410'\n",
            "(0040, 0245) Performed Procedure Step Start Time TM: '123029.000'\n",
            "(0040, 0253) Performed Procedure Step ID         SH: '46706'\n",
            "(0040, 0275)  Request Attributes Sequence  1 item(s) ---- \n",
            "   (0032, 1060) Requested Procedure Description     LO: 'TC TORAX'\n",
            "   (0040, 0007) Scheduled Procedure Step Descriptio LO: 'TC TORAX'\n",
            "   (0040, 0009) Scheduled Procedure Step ID         SH: '2449130'\n",
            "   (0040, 1001) Requested Procedure ID              SH: '1'\n",
            "   ---------\n",
            "(7005, 0010) Private Creator                     LO: 'TOSHIBA_MEC_CT3'\n",
            "(7005, 1007) [Reconstruction Center]             DS: [208, 267]\n",
            "(7005, 1008) [Detector Slice Thickness in mm]    DS: '1.0'\n",
            "(7005, 1009) [Number of Detector rows to Reconst LO: '1111111111111111'\n",
            "(7005, 100a) [Table Speed in mm/rot]             DS: '15.0'\n",
            "(7005, 100b) [Filter]                            SH: 'UE0'\n",
            "(7005, 100e) [File Type Remarks]                 SH: 'IMG'\n",
            "(7005, 100f) [Direction]                         SH: 'FF'\n",
            "(7005, 1012) [Position]                          SH: 'SU'\n",
            "(7005, 1013) [Expert Plan No.]                   US: 1\n",
            "(7005, 1016) [Volume UID]                        UI: 1.2.392.200036.9116.2.6.1.37.2420784519.1586489593.395489\n",
            "(7005, 1017) [Total Frame Count in the Volume]   US: 1\n",
            "(7005, 1018) [Frame No.]                         US: 1\n",
            "(7005, 1019) [Frame Sort Key]                    UL: 1642763\n",
            "(7005, 101a) [Frame Sort Order]                  US: 0\n",
            "(7005, 101b) [Convolution Kernel]                SH: 'FC52'\n",
            "(7005, 101d) [Reconstruction Number]             UL: 3\n",
            "(7005, 101e) [Raw Data Number]                   UL: 0\n",
            "(7005, 101f) [Volume Number]                     LO: '00'\n",
            "(7005, 1020) [Local Series Number]               UL: 3\n",
            "(7005, 1021) [Decrease in Artifact Filter]       LO: 'BOOST'\n",
            "(7005, 1022) [Reconstruction Interval]           DS: '5.0'\n",
            "(7005, 1023) [Pitch Factor]                      DS: '0.938'\n",
            "(7005, 1030) [Main Modality in Study]            CS: 'CT'\n",
            "(7005, 1040) [DLP Dose Length Product]           FD: 420.9\n",
            "(7fe0, 0010) Pixel Data                          OW: Array of 524288 elements\n"
          ]
        }
      ]
    },
    {
      "cell_type": "markdown",
      "source": [
        "## Gets Image Array From Dicom Image"
      ],
      "metadata": {
        "id": "Cd8qkALvU2qt"
      }
    },
    {
      "cell_type": "code",
      "source": [
        "image = medical_image.pixel_array\n",
        "print(image.shape)"
      ],
      "metadata": {
        "colab": {
          "base_uri": "https://localhost:8080/"
        },
        "id": "XWfpDKTvU7bT",
        "outputId": "4ca8a0f5-672a-44b3-a500-677264c117f5"
      },
      "execution_count": null,
      "outputs": [
        {
          "output_type": "stream",
          "name": "stdout",
          "text": [
            "(512, 512)\n"
          ]
        }
      ]
    },
    {
      "cell_type": "code",
      "source": [
        "plt.imshow(image, cmap='gray')\n"
      ],
      "metadata": {
        "colab": {
          "base_uri": "https://localhost:8080/",
          "height": 286
        },
        "id": "yYPGCQj2VEVB",
        "outputId": "eac1d6c7-280d-4ce9-f6ea-abf51aa1e3d4"
      },
      "execution_count": null,
      "outputs": [
        {
          "output_type": "execute_result",
          "data": {
            "text/plain": [
              "<matplotlib.image.AxesImage at 0x7fce0d2eaa10>"
            ]
          },
          "metadata": {},
          "execution_count": 6
        },
        {
          "output_type": "display_data",
          "data": {
            "text/plain": [
              "<Figure size 432x288 with 1 Axes>"
            ],
            "image/png": "[encoded data removed]"
          },
          "metadata": {
            "needs_background": "light"
          }
        }
      ]
    },
    {
      "cell_type": "code",
      "source": [
        "print(image.min())\n",
        "print(image.max())"
      ],
      "metadata": {
        "colab": {
          "base_uri": "https://localhost:8080/"
        },
        "id": "DBfr4_fAVW1u",
        "outputId": "d0ae00e1-61ef-4405-d4f2-551530bb6d89"
      },
      "execution_count": null,
      "outputs": [
        {
          "output_type": "stream",
          "name": "stdout",
          "text": [
            "-3046\n",
            "1844\n"
          ]
        }
      ]
    },
    {
      "cell_type": "markdown",
      "source": [
        "## Rescale Intercept and Slope"
      ],
      "metadata": {
        "id": "wDOTTrtgYA34"
      }
    },
    {
      "cell_type": "code",
      "source": [
        "def transform_to_hu(medical_image, image):\n",
        "  '''\n",
        "  The .RescaleSlope is a property in the Dicom image which say \n",
        "  how we have to rescale the slope to obtain the correct gray levels\n",
        "\n",
        "  '''\n",
        "  intercept = medical_image.RescaleIntercept\n",
        "  slope = medical_image.RescaleSlope\n",
        "  hu_image = image * slope + intercept\n",
        "\n",
        "  return hu_image"
      ],
      "metadata": {
        "id": "ZTG2sG9mVfUe"
      },
      "execution_count": null,
      "outputs": []
    },
    {
      "cell_type": "markdown",
      "source": [
        "Janelamento"
      ],
      "metadata": {
        "id": "isPPrxWiZU1t"
      }
    },
    {
      "cell_type": "code",
      "source": [
        "def window_image(image, window_center, windows_width):\n",
        "  '''\n",
        "  Function to define the gray levels in the window displayed \n",
        "  '''\n",
        "  img_min = window_center - windows_width //2\n",
        "  img_max = window_center + windows_width //2\n",
        "  window_image = image.copy()\n",
        "  window_image[window_image < img_min] = img_min\n",
        "  window_image[window_image > img_max] = img_max\n",
        "\n",
        "  return window_image\n"
      ],
      "metadata": {
        "id": "wZ6GZt8HX8gP"
      },
      "execution_count": null,
      "outputs": []
    },
    {
      "cell_type": "markdown",
      "source": [
        "## Removing Noises"
      ],
      "metadata": {
        "id": "wR5n_VLbYy6Y"
      }
    },
    {
      "cell_type": "code",
      "source": [
        "def remove_noise(file_path, display = False):\n",
        "  '''\n",
        "  During preprocess, removing noises is a very important stage since, the \n",
        "  data is improved after the implementation we can see it more clearly. \n",
        "  So, model can be trained better. [2]\n",
        "  '''\n",
        "\n",
        "  medical_image = pydicom.read_file(file_path)\n",
        "  image = medical_image.pixel_array\n",
        "\n",
        "  hu_image = transform_to_hu(medical_image, image)\n",
        "  chest_image = window_image(hu_image, 40, 80) #bone window\n",
        "  segmentation = morphology.dilation(chest_image, np.ones((1,1)))\n",
        "  labels, label_nb = ndimage.label(segmentation)\n",
        "\n",
        "  label_count = np.bincount(labels.ravel().astype(np.int))\n",
        "  label_count[0] = 0\n",
        "\n",
        "  mask = labels == label_count.argmax()\n",
        "\n",
        "  mask = morphology.dilation(mask, np.ones(1, 1))\n",
        "  mask = ndimage.morphology.binary_fill_holes(mask)\n",
        "  mask = morphology.dilation(mask, np.one((3, 3)))\n",
        "  masked_image = mask * chest_image\n",
        "\n",
        "  return masked_image\n"
      ],
      "metadata": {
        "id": "devMPe4tY3Bw"
      },
      "execution_count": null,
      "outputs": []
    },
    {
      "cell_type": "code",
      "source": [
        "img_wo_noise = remove_noise(file_path)\n",
        "plt.imshow(img_wo_noise, cmap='gray')"
      ],
      "metadata": {
        "id": "RVjSjlF5yXaJ"
      },
      "execution_count": null,
      "outputs": []
    },
    {
      "cell_type": "markdown",
      "source": [
        "## Tilt Correction"
      ],
      "metadata": {
        "id": "ZE4Y4_19doiB"
      }
    },
    {
      "cell_type": "code",
      "source": [
        "'''\n",
        "Essa rte do código ainda precisa de correção\n",
        "\n",
        "Tilt correction is the alignment of brain image in a proposed way.\n",
        " When tilt experienced by brain CT images, it may result in misalignment \n",
        " for medical applications. It is important because when we train the model, \n",
        " it can see the whole data through the same alignment. Manually correcting \n",
        " the tilt on a large scale data is time-consuming and expensive. Thus, there \n",
        " is a need for an automatic way of performing tilt correction in preprocessing \n",
        " before the training.\n",
        "\n",
        "\n",
        "'''\n",
        "\n",
        "img=np.uint8 (iskemiMaskedImg)\n",
        "contours, hier =cv2.findContours (img, cv2.RETR_EXTERNAL, cv2.CHAIN_APPROX_SIMPLE)\n",
        "mask=np.zeros (img.shape, np.uint8)\n",
        "\n",
        "# find the biggest contour (c) by the area\n",
        "c = max(contours, key = cv2.contourArea)\n",
        "\n",
        "(x,y),(MA,ma),angle = cv2.fitEllipse(c)\n",
        "\n",
        "cv2.ellipse(img, ((x,y), (MA,ma), angle), color=(0, 255, 0), thickness=2)\n",
        "\n",
        "rmajor = max(MA,ma)/2\n",
        "if angle > 90:\n",
        "    angle -= 90\n",
        "else:\n",
        "    angle += 96\n",
        "xtop = x + math.cos(math.radians(angle))*rmajor\n",
        "ytop = y + math.sin(math.radians(angle))*rmajor\n",
        "xbot = x + math.cos(math.radians(angle+180))*rmajor\n",
        "ybot = y + math.sin(math.radians(angle+180))*rmajor\n",
        "cv2.line(img, (int(xtop),int(ytop)), (int(xbot),int(ybot)), (0, 255, 0), 3)\n",
        "\n",
        "pylab.imshow(img)\n",
        "pylab.show()\n",
        "\n",
        "M = cv2.getRotationMatrix2D((x, y), angle-90, 1)  #transformation matrix\n",
        "\n",
        "img = cv2.warpAffine(img, M, (img.shape[1], img.shape[0]), cv2.INTER_CUBIC)\n",
        "\n",
        "pylab.imshow(img)\n",
        "pylab.show()"
      ],
      "metadata": {
        "colab": {
          "base_uri": "https://localhost:8080/",
          "height": 253
        },
        "id": "-NpC2A7YdrU6",
        "outputId": "c5f59a15-d704-4f21-b020-99180a5ef5e2"
      },
      "execution_count": null,
      "outputs": [
        {
          "output_type": "error",
          "ename": "NameError",
          "evalue": "ignored",
          "traceback": [
            "\u001b[0;31m---------------------------------------------------------------------------\u001b[0m",
            "\u001b[0;31mNameError\u001b[0m                                 Traceback (most recent call last)",
            "\u001b[0;32m<ipython-input-21-6c09a99f2abd>\u001b[0m in \u001b[0;36m<module>\u001b[0;34m()\u001b[0m\n\u001b[1;32m     13\u001b[0m '''\n\u001b[1;32m     14\u001b[0m \u001b[0;34m\u001b[0m\u001b[0m\n\u001b[0;32m---> 15\u001b[0;31m \u001b[0mimg\u001b[0m\u001b[0;34m=\u001b[0m\u001b[0mnp\u001b[0m\u001b[0;34m.\u001b[0m\u001b[0muint8\u001b[0m \u001b[0;34m(\u001b[0m\u001b[0miskemiMaskedImg\u001b[0m\u001b[0;34m)\u001b[0m\u001b[0;34m\u001b[0m\u001b[0;34m\u001b[0m\u001b[0m\n\u001b[0m\u001b[1;32m     16\u001b[0m \u001b[0mcontours\u001b[0m\u001b[0;34m,\u001b[0m \u001b[0mhier\u001b[0m \u001b[0;34m=\u001b[0m\u001b[0mcv2\u001b[0m\u001b[0;34m.\u001b[0m\u001b[0mfindContours\u001b[0m \u001b[0;34m(\u001b[0m\u001b[0mimg\u001b[0m\u001b[0;34m,\u001b[0m \u001b[0mcv2\u001b[0m\u001b[0;34m.\u001b[0m\u001b[0mRETR_EXTERNAL\u001b[0m\u001b[0;34m,\u001b[0m \u001b[0mcv2\u001b[0m\u001b[0;34m.\u001b[0m\u001b[0mCHAIN_APPROX_SIMPLE\u001b[0m\u001b[0;34m)\u001b[0m\u001b[0;34m\u001b[0m\u001b[0;34m\u001b[0m\u001b[0m\n\u001b[1;32m     17\u001b[0m \u001b[0mmask\u001b[0m\u001b[0;34m=\u001b[0m\u001b[0mnp\u001b[0m\u001b[0;34m.\u001b[0m\u001b[0mzeros\u001b[0m \u001b[0;34m(\u001b[0m\u001b[0mimg\u001b[0m\u001b[0;34m.\u001b[0m\u001b[0mshape\u001b[0m\u001b[0;34m,\u001b[0m \u001b[0mnp\u001b[0m\u001b[0;34m.\u001b[0m\u001b[0muint8\u001b[0m\u001b[0;34m)\u001b[0m\u001b[0;34m\u001b[0m\u001b[0;34m\u001b[0m\u001b[0m\n",
            "\u001b[0;31mNameError\u001b[0m: name 'iskemiMaskedImg' is not defined"
          ]
        }
      ]
    },
    {
      "cell_type": "markdown",
      "source": [
        "### Crop Image and Add Pad"
      ],
      "metadata": {
        "id": "ODxTGFYRe8Dl"
      }
    },
    {
      "cell_type": "code",
      "source": [
        "'''\n",
        "Necessita revisão\n",
        "\n",
        "\n",
        "Cropping image is needed to place the brain image at the center and get \n",
        "rid of unnecessary parts of image. Also, some brain images might be placed \n",
        "in different location within general image. By cropping image and adding \n",
        "pads, we will make sure almost all the images are in same location within\n",
        "general image itself.\n",
        "'''\n",
        "def crop_image(image, display = False):\n",
        "  #Create a mask with the background pixels\n",
        "  mask = image == 0\n",
        "\n",
        "  #Find The brain area\n",
        "  coords = np.array(np.nonzero(~mask))\n",
        "  top_left = np.min(coords, axis=1)\n",
        "  bottom_right = np.max(coords, axis=1)\n",
        "\n",
        "  #Remove the background\n",
        "  croped_image = image[top_left[0]:bottom_right[0],\n",
        "                       top_left[1]:bottom_right[1]]\n",
        "\n",
        "  return croped_image"
      ],
      "metadata": {
        "id": "zo_Rmkrre_hc"
      },
      "execution_count": null,
      "outputs": []
    },
    {
      "cell_type": "code",
      "source": [
        "croppedImage = crop_image(img)"
      ],
      "metadata": {
        "id": "qeOo3AIAgIL4"
      },
      "execution_count": null,
      "outputs": []
    },
    {
      "cell_type": "code",
      "source": [
        "plt.figure(figsize=(15,5))\n",
        "plt.imshow(croppedImage)"
      ],
      "metadata": {
        "id": "_Z92Om0egN_s"
      },
      "execution_count": null,
      "outputs": []
    },
    {
      "cell_type": "code",
      "source": [
        "### Add Pad function\n",
        "\n",
        "def add_pad(image, new_height=512, new_width=512):\n",
        "  height, width = image.shape\n",
        "\n",
        "  final_image = np.zeros((new_height, new_width))\n",
        "\n",
        "  pad_left = int((new_width - width) // 2)\n",
        "  pad_top = int((new_height - height) // 2)\n",
        "\n",
        "  # Replace the pixels with the image's pixels\n",
        "  final_image[pad_top:pad_top + height, pad_left:pad_left + width] = image\n",
        "\n",
        "  return final_image"
      ],
      "metadata": {
        "id": "btJ3nMqbgXx-"
      },
      "execution_count": null,
      "outputs": []
    }
  ]
}