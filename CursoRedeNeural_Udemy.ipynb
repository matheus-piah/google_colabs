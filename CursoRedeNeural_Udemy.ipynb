{
  "nbformat": 4,
  "nbformat_minor": 0,
  "metadata": {
    "colab": {
      "name": "CursoRedeNeural-Udemy.ipynb",
      "provenance": [],
      "authorship_tag": "ABX9TyMQr1Of5ZdJ/SnscCVvMVWE",
      "include_colab_link": true
    },
    "kernelspec": {
      "name": "python3",
      "display_name": "Python 3"
    },
    "language_info": {
      "name": "python"
    }
  },
  "cells": [
    {
      "cell_type": "markdown",
      "metadata": {
        "id": "view-in-github",
        "colab_type": "text"
      },
      "source": [
        "<a href=\"https://colab.research.google.com/github/matheus-piah/google_colabs/blob/main/CursoRedeNeural_Udemy.ipynb\" target=\"_parent\"><img src=\"https://colab.research.google.com/assets/colab-badge.svg\" alt=\"Open In Colab\"/></a>"
      ]
    },
    {
      "cell_type": "markdown",
      "source": [
        "#Curso Udemy\n",
        "https://www.udemy.com/course/deep-learning-com-python-az-curso-completo/learn/lecture/10619134#overview"
      ],
      "metadata": {
        "id": "r-KS4F8rfOD_"
      }
    },
    {
      "cell_type": "markdown",
      "source": [
        "##Classificação Binária de Cancer de Mama"
      ],
      "metadata": {
        "id": "FHd_UBfQlBJw"
      }
    },
    {
      "cell_type": "markdown",
      "source": [
        "import libraries"
      ],
      "metadata": {
        "id": "hzG2Eqhjhi_J"
      }
    },
    {
      "cell_type": "code",
      "execution_count": 39,
      "metadata": {
        "id": "7ViJI45baY8D",
        "colab": {
          "base_uri": "https://localhost:8080/"
        },
        "outputId": "0fab8d46-804f-4c23-a018-e3c213ce3e2e"
      },
      "outputs": [
        {
          "output_type": "stream",
          "name": "stdout",
          "text": [
            "Drive already mounted at /content/drive/; to attempt to forcibly remount, call drive.mount(\"/content/drive/\", force_remount=True).\n"
          ]
        }
      ],
      "source": [
        "import tensorflow as tf\n",
        "import pandas as pd\n",
        "from google.colab import drive\n",
        "from sklearn.model_selection import train_test_split\n",
        "import keras\n",
        "from keras.models import Sequential\n",
        "from keras.layers import Dense\n",
        "from sklearn.metrics import confusion_matrix, accuracy_score\n",
        "from sklearn import metrics\n",
        "from matplotlib import pyplot as plt\n",
        "\n",
        "drive.mount(\"/content/drive/\")"
      ]
    },
    {
      "cell_type": "markdown",
      "source": [
        "import bd"
      ],
      "metadata": {
        "id": "y1kCRJM8hhI3"
      }
    },
    {
      "cell_type": "code",
      "source": [
        "previsores = pd.read_csv('/content/drive/My Drive/Colab Notebooks/CursoUdemy/entradas_breast.csv')\n",
        "classe = pd.read_csv('/content/drive/My Drive/Colab Notebooks/CursoUdemy/saidas_breast.csv')"
      ],
      "metadata": {
        "id": "ySP02TFKfNRW"
      },
      "execution_count": 5,
      "outputs": []
    },
    {
      "cell_type": "code",
      "source": [
        "previsores_treinamento, previsores_teste, classe_treinamento, classe_teste = train_test_split(previsores, classe, test_size=0.25)"
      ],
      "metadata": {
        "id": "Wa9sYKULg--o"
      },
      "execution_count": 18,
      "outputs": []
    },
    {
      "cell_type": "code",
      "source": [
        "from keras.backend import dropout\n",
        "classificador = Sequential()\n",
        "classificador.add(Dense(units = 16, \n",
        "                        activation='relu', \n",
        "                        kernel_initializer= 'random_uniform', \n",
        "                        name = 'Hidden1',\n",
        "                        input_dim=30)) #numero de nodos: number of classificators+1 /2\n",
        "classificador.add(tf.keras.layers.Dropout(rate=0.2))\n",
        "\n",
        "classificador.add(Dense(units = 8, \n",
        "                        activation='relu', \n",
        "                        kernel_initializer= 'random_uniform',\n",
        "                        name = 'Hidden2')) \n",
        "\n",
        "classificador.add(Dense(units = 1, activation = 'sigmoid'))\n",
        "\n",
        "otimizador = tf.keras.optimizers.Adam(lr=0.001,\n",
        "                                   decay=0.0001,\n",
        "                                   clipvalue=0.5)\n"
      ],
      "metadata": {
        "colab": {
          "base_uri": "https://localhost:8080/"
        },
        "id": "Qx9Uwr8_iYUM",
        "outputId": "e256afd1-c4ac-4a8a-a3d4-d718b1daad5b"
      },
      "execution_count": 49,
      "outputs": [
        {
          "output_type": "stream",
          "name": "stderr",
          "text": [
            "/usr/local/lib/python3.7/dist-packages/keras/optimizer_v2/adam.py:105: UserWarning: The `lr` argument is deprecated, use `learning_rate` instead.\n",
            "  super(Adam, self).__init__(name, **kwargs)\n"
          ]
        }
      ]
    },
    {
      "cell_type": "code",
      "source": [
        "#hyperparameters\n",
        "batches = 10\n",
        "epochs = 30\n",
        "\n",
        "#classification\n",
        "classificador.compile(optimizer = otimizador, \n",
        "                      loss = 'mean_squared_error', \n",
        "                      metrics=['mean_squared_error'])\n",
        "\n",
        "history = classificador.fit(previsores_treinamento,\n",
        "                            classe_treinamento,\n",
        "                            batch_size = batches, \n",
        "                            epochs = epochs)\n",
        "\n",
        "epochs = history.epoch\n",
        "hist = pd.DataFrame(history.history)\n",
        "mse = hist[\"mean_squared_error\"]\n",
        "\n",
        "plt.figure()\n",
        "plt.xlabel(\"Epoch\")\n",
        "plt.ylabel(\"Mean Squared Error\")\n",
        "\n",
        "plt.plot(epochs, mse, label=\"Loss\")\n",
        "plt.legend()\n",
        "plt.ylim([mse.min()*0.95, mse.max() * 1.03])\n",
        "plt.show()  \n"
      ],
      "metadata": {
        "colab": {
          "base_uri": "https://localhost:8080/",
          "height": 1000
        },
        "id": "A7cf9FrGkPZL",
        "outputId": "d4398976-6fe2-4483-85d4-e8443d31f904"
      },
      "execution_count": 53,
      "outputs": [
        {
          "output_type": "stream",
          "name": "stdout",
          "text": [
            "Epoch 1/30\n",
            "43/43 [==============================] - 2s 2ms/step - loss: 0.0904 - mean_squared_error: 0.0904\n",
            "Epoch 2/30\n",
            "43/43 [==============================] - 0s 2ms/step - loss: 0.0984 - mean_squared_error: 0.0984\n",
            "Epoch 3/30\n",
            "43/43 [==============================] - 0s 2ms/step - loss: 0.1056 - mean_squared_error: 0.1056\n",
            "Epoch 4/30\n",
            "43/43 [==============================] - 0s 2ms/step - loss: 0.0959 - mean_squared_error: 0.0959\n",
            "Epoch 5/30\n",
            "43/43 [==============================] - 0s 2ms/step - loss: 0.0903 - mean_squared_error: 0.0903\n",
            "Epoch 6/30\n",
            "43/43 [==============================] - 0s 2ms/step - loss: 0.1119 - mean_squared_error: 0.1119\n",
            "Epoch 7/30\n",
            "43/43 [==============================] - 2s 48ms/step - loss: 0.1113 - mean_squared_error: 0.1113\n",
            "Epoch 8/30\n",
            "43/43 [==============================] - 0s 2ms/step - loss: 0.1000 - mean_squared_error: 0.1000\n",
            "Epoch 9/30\n",
            "43/43 [==============================] - 0s 2ms/step - loss: 0.1206 - mean_squared_error: 0.1206\n",
            "Epoch 10/30\n",
            "43/43 [==============================] - 0s 2ms/step - loss: 0.1044 - mean_squared_error: 0.1044\n",
            "Epoch 11/30\n",
            "43/43 [==============================] - 0s 2ms/step - loss: 0.0955 - mean_squared_error: 0.0955\n",
            "Epoch 12/30\n",
            "43/43 [==============================] - 0s 2ms/step - loss: 0.1017 - mean_squared_error: 0.1017\n",
            "Epoch 13/30\n",
            "43/43 [==============================] - 0s 2ms/step - loss: 0.1140 - mean_squared_error: 0.1140\n",
            "Epoch 14/30\n",
            "43/43 [==============================] - 0s 2ms/step - loss: 0.1203 - mean_squared_error: 0.1203\n",
            "Epoch 15/30\n",
            "43/43 [==============================] - 0s 8ms/step - loss: 0.0965 - mean_squared_error: 0.0965\n",
            "Epoch 16/30\n",
            "43/43 [==============================] - 1s 17ms/step - loss: 0.1113 - mean_squared_error: 0.1113\n",
            "Epoch 17/30\n",
            "43/43 [==============================] - 0s 2ms/step - loss: 0.1173 - mean_squared_error: 0.1173\n",
            "Epoch 18/30\n",
            "43/43 [==============================] - 0s 2ms/step - loss: 0.1038 - mean_squared_error: 0.1038\n",
            "Epoch 19/30\n",
            "43/43 [==============================] - 0s 2ms/step - loss: 0.1094 - mean_squared_error: 0.1094\n",
            "Epoch 20/30\n",
            "43/43 [==============================] - 0s 2ms/step - loss: 0.0985 - mean_squared_error: 0.0985\n",
            "Epoch 21/30\n",
            "43/43 [==============================] - 0s 2ms/step - loss: 0.1041 - mean_squared_error: 0.1041\n",
            "Epoch 22/30\n",
            "43/43 [==============================] - 0s 2ms/step - loss: 0.1180 - mean_squared_error: 0.1180\n",
            "Epoch 23/30\n",
            "43/43 [==============================] - 0s 2ms/step - loss: 0.1195 - mean_squared_error: 0.1195\n",
            "Epoch 24/30\n",
            "43/43 [==============================] - 0s 2ms/step - loss: 0.1066 - mean_squared_error: 0.1066\n",
            "Epoch 25/30\n",
            "43/43 [==============================] - 0s 2ms/step - loss: 0.1175 - mean_squared_error: 0.1175\n",
            "Epoch 26/30\n",
            "43/43 [==============================] - 0s 2ms/step - loss: 0.1075 - mean_squared_error: 0.1075\n",
            "Epoch 27/30\n",
            "43/43 [==============================] - 0s 2ms/step - loss: 0.0990 - mean_squared_error: 0.0990\n",
            "Epoch 28/30\n",
            "43/43 [==============================] - 0s 2ms/step - loss: 0.1043 - mean_squared_error: 0.1043\n",
            "Epoch 29/30\n",
            "43/43 [==============================] - 0s 2ms/step - loss: 0.1089 - mean_squared_error: 0.1089\n",
            "Epoch 30/30\n",
            "43/43 [==============================] - 0s 2ms/step - loss: 0.1131 - mean_squared_error: 0.1131\n"
          ]
        },
        {
          "output_type": "display_data",
          "data": {
            "text/plain": [
              "<Figure size 432x288 with 1 Axes>"
            ],
            "image/png": "[encoded data removed]"
          },
          "metadata": {
            "needs_background": "light"
          }
        }
      ]
    },
    {
      "cell_type": "code",
      "source": [
        "previsoes = classificador.predict(previsores_teste)\n",
        "previsoes = (previsoes > 0.5)\n",
        "precisao = accuracy_score(classe_teste, previsoes)\n",
        "matriz = confusion_matrix(classe_teste, previsoes)\n",
        "\n",
        "resultado = classificador.evaluate(previsores_teste,classe_teste)\n"
      ],
      "metadata": {
        "colab": {
          "base_uri": "https://localhost:8080/"
        },
        "id": "j_xkInyZmILM",
        "outputId": "13365e51-d85a-4f05-9031-de924ed74c30"
      },
      "execution_count": 54,
      "outputs": [
        {
          "output_type": "stream",
          "name": "stdout",
          "text": [
            "5/5 [==============================] - 0s 3ms/step - loss: 0.1254 - mean_squared_error: 0.1254\n"
          ]
        }
      ]
    },
    {
      "cell_type": "code",
      "source": [
        ""
      ],
      "metadata": {
        "id": "FCgkY4nSnhie"
      },
      "execution_count": null,
      "outputs": []
    }
  ]
}