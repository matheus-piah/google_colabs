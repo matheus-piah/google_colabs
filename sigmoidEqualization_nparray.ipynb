{
  "nbformat": 4,
  "nbformat_minor": 0,
  "metadata": {
    "colab": {
      "name": "sigmoidEqualization_nparray.ipynb",
      "provenance": [],
      "authorship_tag": "ABX9TyN71M5FGfKoZxJpRU5EaZzX",
      "include_colab_link": true
    },
    "kernelspec": {
      "name": "python3",
      "display_name": "Python 3"
    },
    "language_info": {
      "name": "python"
    }
  },
  "cells": [
    {
      "cell_type": "markdown",
      "metadata": {
        "id": "view-in-github",
        "colab_type": "text"
      },
      "source": [
        "<a href=\"https://colab.research.google.com/github/matheus-piah/google_colabs/blob/main/sigmoidEqualization_nparray.ipynb\" target=\"_parent\"><img src=\"https://colab.research.google.com/assets/colab-badge.svg\" alt=\"Open In Colab\"/></a>"
      ]
    },
    {
      "cell_type": "code",
      "execution_count": null,
      "metadata": {
        "id": "CC-oMXvtV0JX"
      },
      "outputs": [],
      "source": [
        "def sigmoidEqualization(img,alpha,beta):\n",
        "  #Function for sigmid equalization from a numpy array\n",
        "  #get from https://github.com/KKurrey/Contrast-Enhancement/blob/master/EnhancementSigmoidModified.ipynb\n",
        "\n",
        "  # img = cv2.imread(\"2.1.01.tiff\")\n",
        "  #img = cv2.imread(\"2.1.02.tiff\")\n",
        "\n",
        "  #gain = 10\n",
        "  #cutoff = 0.5\n",
        "  newimg = np.copy(img)\n",
        "\n",
        "  #newimg[:,:,0] = img[:,:,0]\n",
        "  #newimg[:,:,1] = img[:,:,1]\n",
        "  #newimg[:,:,2] = img[:,:,2]\n",
        "\n",
        "  Lmin = newimg.min()\n",
        "  Lmax = newimg.max()\n",
        "\n",
        "\n",
        "  newimg = (Lmax-Lmin)*1/(1+np.exp(-1*(newimg-beta)/alpha))+Lmin\n",
        "\n",
        " # newimg = (newimg - Lmin)/(Lmax - Lmin)\n",
        " # mean = np.mean(newimg)\n",
        "\n",
        "  #beta = 1.0\n",
        " # alpha = ((np.log(mean/255))/np.log(mean))* (beta**(np.log(mean)))\n",
        "\n",
        " # L = np.log(newimg)\n",
        "\n",
        " # newimg = 255 * (newimg ** (alpha * (beta ** (-L))))\n",
        "  return newimg"
      ]
    }
  ]
}