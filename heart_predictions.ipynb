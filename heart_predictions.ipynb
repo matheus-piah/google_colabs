{
  "nbformat": 4,
  "nbformat_minor": 0,
  "metadata": {
    "colab": {
      "name": "heart_predictions.ipynb",
      "provenance": [],
      "authorship_tag": "ABX9TyPHU362PJGZ3F1KU0nuNQfg",
      "include_colab_link": true
    },
    "kernelspec": {
      "name": "python3",
      "display_name": "Python 3"
    },
    "language_info": {
      "name": "python"
    }
  },
  "cells": [
    {
      "cell_type": "markdown",
      "metadata": {
        "id": "view-in-github",
        "colab_type": "text"
      },
      "source": [
        "<a href=\"https://colab.research.google.com/github/matheus-piah/google_colabs/blob/main/heart_predictions.ipynb\" target=\"_parent\"><img src=\"https://colab.research.google.com/assets/colab-badge.svg\" alt=\"Open In Colab\"/></a>"
      ]
    },
    {
      "cell_type": "markdown",
      "source": [
        "#Heart Disease Predictor\n",
        "\n",
        "got from https://www.geeksforgeeks.org/heart-disease-prediction-using-ann/\n",
        "\n",
        "data: https://archive.ics.uci.edu/ml/datasets/Heart+Disease"
      ],
      "metadata": {
        "id": "AumeorTZkUCT"
      }
    },
    {
      "cell_type": "code",
      "execution_count": 31,
      "metadata": {
        "colab": {
          "base_uri": "https://localhost:8080/"
        },
        "id": "kPOnD_v5kRMZ",
        "outputId": "37ebec6c-c10e-4553-b553-6d504f368a3a"
      },
      "outputs": [
        {
          "output_type": "stream",
          "name": "stdout",
          "text": [
            "Drive already mounted at /content/drive; to attempt to forcibly remount, call drive.mount(\"/content/drive\", force_remount=True).\n"
          ]
        }
      ],
      "source": [
        "#import libraries\n",
        "import tensorflow as tf\n",
        "import pandas as pd\n",
        "import numpy as np\n",
        "import matplotlib.pyplot as plt\n",
        "import keras\n",
        "from sklearn.model_selection import train_test_split\n",
        "from sklearn.preprocessing import StandardScaler\n",
        "from keras.models import Sequential\n",
        "from keras.layers import Dense\n",
        "from sklearn.metrics import confusion_matrix\n",
        "from google.colab import drive\n",
        "\n",
        "drive.mount('/content/drive')"
      ]
    },
    {
      "cell_type": "code",
      "source": [
        "#read data\n",
        "data = pd.read_csv('/content/drive/MyDrive/Colab Notebooks/HeartDiseaseData/processed.hungarian.data')\n",
        "df = pd.DataFrame(data)\n",
        "df.columns=['Age','sex','cp','trestblps','chol','fbs','restecg','thalach','exang','oldpeak',\n",
        "                     'slope','ca','thal','target']\n",
        "df.head()"
      ],
      "metadata": {
        "colab": {
          "base_uri": "https://localhost:8080/",
          "height": 206
        },
        "id": "fPGYlkh9mTZN",
        "outputId": "3d3743b2-4301-4b4a-b279-d0e86bbb002c"
      },
      "execution_count": 32,
      "outputs": [
        {
          "output_type": "execute_result",
          "data": {
            "text/plain": [
              "   Age  sex  cp  trestblps  chol  fbs  restecg  thalach  exang  oldpeak  \\\n",
              "0   29    1   2        120   243    0        0      160      0      0.0   \n",
              "1   29    1   2        140     0    0        0      170      0      0.0   \n",
              "2   30    0   1        170   237    0        1      170      0      0.0   \n",
              "3   31    0   2        100   219    0        1      150      0      0.0   \n",
              "4   32    0   2        105   198    0        0      165      0      0.0   \n",
              "\n",
              "   slope  ca  thal  target  \n",
              "0      0   0     0       0  \n",
              "1      0   0     0       0  \n",
              "2      0   0     6       0  \n",
              "3      0   0     0       0  \n",
              "4      0   0     0       0  "
            ],
            "text/html": [
              "\n",
              "  <div id=\"df-56faeb6e-b1ad-4b52-ba7e-65130da46d48\">\n",
              "    <div class=\"colab-df-container\">\n",
              "      <div>\n",
              "<style scoped>\n",
              "    .dataframe tbody tr th:only-of-type {\n",
              "        vertical-align: middle;\n",
              "    }\n",
              "\n",
              "    .dataframe tbody tr th {\n",
              "        vertical-align: top;\n",
              "    }\n",
              "\n",
              "    .dataframe thead th {\n",
              "        text-align: right;\n",
              "    }\n",
              "</style>\n",
              "<table border=\"1\" class=\"dataframe\">\n",
              "  <thead>\n",
              "    <tr style=\"text-align: right;\">\n",
              "      <th></th>\n",
              "      <th>Age</th>\n",
              "      <th>sex</th>\n",
              "      <th>cp</th>\n",
              "      <th>trestblps</th>\n",
              "      <th>chol</th>\n",
              "      <th>fbs</th>\n",
              "      <th>restecg</th>\n",
              "      <th>thalach</th>\n",
              "      <th>exang</th>\n",
              "      <th>oldpeak</th>\n",
              "      <th>slope</th>\n",
              "      <th>ca</th>\n",
              "      <th>thal</th>\n",
              "      <th>target</th>\n",
              "    </tr>\n",
              "  </thead>\n",
              "  <tbody>\n",
              "    <tr>\n",
              "      <th>0</th>\n",
              "      <td>29</td>\n",
              "      <td>1</td>\n",
              "      <td>2</td>\n",
              "      <td>120</td>\n",
              "      <td>243</td>\n",
              "      <td>0</td>\n",
              "      <td>0</td>\n",
              "      <td>160</td>\n",
              "      <td>0</td>\n",
              "      <td>0.0</td>\n",
              "      <td>0</td>\n",
              "      <td>0</td>\n",
              "      <td>0</td>\n",
              "      <td>0</td>\n",
              "    </tr>\n",
              "    <tr>\n",
              "      <th>1</th>\n",
              "      <td>29</td>\n",
              "      <td>1</td>\n",
              "      <td>2</td>\n",
              "      <td>140</td>\n",
              "      <td>0</td>\n",
              "      <td>0</td>\n",
              "      <td>0</td>\n",
              "      <td>170</td>\n",
              "      <td>0</td>\n",
              "      <td>0.0</td>\n",
              "      <td>0</td>\n",
              "      <td>0</td>\n",
              "      <td>0</td>\n",
              "      <td>0</td>\n",
              "    </tr>\n",
              "    <tr>\n",
              "      <th>2</th>\n",
              "      <td>30</td>\n",
              "      <td>0</td>\n",
              "      <td>1</td>\n",
              "      <td>170</td>\n",
              "      <td>237</td>\n",
              "      <td>0</td>\n",
              "      <td>1</td>\n",
              "      <td>170</td>\n",
              "      <td>0</td>\n",
              "      <td>0.0</td>\n",
              "      <td>0</td>\n",
              "      <td>0</td>\n",
              "      <td>6</td>\n",
              "      <td>0</td>\n",
              "    </tr>\n",
              "    <tr>\n",
              "      <th>3</th>\n",
              "      <td>31</td>\n",
              "      <td>0</td>\n",
              "      <td>2</td>\n",
              "      <td>100</td>\n",
              "      <td>219</td>\n",
              "      <td>0</td>\n",
              "      <td>1</td>\n",
              "      <td>150</td>\n",
              "      <td>0</td>\n",
              "      <td>0.0</td>\n",
              "      <td>0</td>\n",
              "      <td>0</td>\n",
              "      <td>0</td>\n",
              "      <td>0</td>\n",
              "    </tr>\n",
              "    <tr>\n",
              "      <th>4</th>\n",
              "      <td>32</td>\n",
              "      <td>0</td>\n",
              "      <td>2</td>\n",
              "      <td>105</td>\n",
              "      <td>198</td>\n",
              "      <td>0</td>\n",
              "      <td>0</td>\n",
              "      <td>165</td>\n",
              "      <td>0</td>\n",
              "      <td>0.0</td>\n",
              "      <td>0</td>\n",
              "      <td>0</td>\n",
              "      <td>0</td>\n",
              "      <td>0</td>\n",
              "    </tr>\n",
              "  </tbody>\n",
              "</table>\n",
              "</div>\n",
              "      <button class=\"colab-df-convert\" onclick=\"convertToInteractive('df-56faeb6e-b1ad-4b52-ba7e-65130da46d48')\"\n",
              "              title=\"Convert this dataframe to an interactive table.\"\n",
              "              style=\"display:none;\">\n",
              "        \n",
              "  <svg xmlns=\"http://www.w3.org/2000/svg\" height=\"24px\"viewBox=\"0 0 24 24\"\n",
              "       width=\"24px\">\n",
              "    <path d=\"M0 0h24v24H0V0z\" fill=\"none\"/>\n",
              "    <path d=\"M18.56 5.44l.94 2.06.94-2.06 2.06-.94-2.06-.94-.94-2.06-.94 2.06-2.06.94zm-11 1L8.5 8.5l.94-2.06 2.06-.94-2.06-.94L8.5 2.5l-.94 2.06-2.06.94zm10 10l.94 2.06.94-2.06 2.06-.94-2.06-.94-.94-2.06-.94 2.06-2.06.94z\"/><path d=\"M17.41 7.96l-1.37-1.37c-.4-.4-.92-.59-1.43-.59-.52 0-1.04.2-1.43.59L10.3 9.45l-7.72 7.72c-.78.78-.78 2.05 0 2.83L4 21.41c.39.39.9.59 1.41.59.51 0 1.02-.2 1.41-.59l7.78-7.78 2.81-2.81c.8-.78.8-2.07 0-2.86zM5.41 20L4 18.59l7.72-7.72 1.47 1.35L5.41 20z\"/>\n",
              "  </svg>\n",
              "      </button>\n",
              "      \n",
              "  <style>\n",
              "    .colab-df-container {\n",
              "      display:flex;\n",
              "      flex-wrap:wrap;\n",
              "      gap: 12px;\n",
              "    }\n",
              "\n",
              "    .colab-df-convert {\n",
              "      background-color: #E8F0FE;\n",
              "      border: none;\n",
              "      border-radius: 50%;\n",
              "      cursor: pointer;\n",
              "      display: none;\n",
              "      fill: #1967D2;\n",
              "      height: 32px;\n",
              "      padding: 0 0 0 0;\n",
              "      width: 32px;\n",
              "    }\n",
              "\n",
              "    .colab-df-convert:hover {\n",
              "      background-color: #E2EBFA;\n",
              "      box-shadow: 0px 1px 2px rgba(60, 64, 67, 0.3), 0px 1px 3px 1px rgba(60, 64, 67, 0.15);\n",
              "      fill: #174EA6;\n",
              "    }\n",
              "\n",
              "    [theme=dark] .colab-df-convert {\n",
              "      background-color: #3B4455;\n",
              "      fill: #D2E3FC;\n",
              "    }\n",
              "\n",
              "    [theme=dark] .colab-df-convert:hover {\n",
              "      background-color: #434B5C;\n",
              "      box-shadow: 0px 1px 3px 1px rgba(0, 0, 0, 0.15);\n",
              "      filter: drop-shadow(0px 1px 2px rgba(0, 0, 0, 0.3));\n",
              "      fill: #FFFFFF;\n",
              "    }\n",
              "  </style>\n",
              "\n",
              "      <script>\n",
              "        const buttonEl =\n",
              "          document.querySelector('#df-56faeb6e-b1ad-4b52-ba7e-65130da46d48 button.colab-df-convert');\n",
              "        buttonEl.style.display =\n",
              "          google.colab.kernel.accessAllowed ? 'block' : 'none';\n",
              "\n",
              "        async function convertToInteractive(key) {\n",
              "          const element = document.querySelector('#df-56faeb6e-b1ad-4b52-ba7e-65130da46d48');\n",
              "          const dataTable =\n",
              "            await google.colab.kernel.invokeFunction('convertToInteractive',\n",
              "                                                     [key], {});\n",
              "          if (!dataTable) return;\n",
              "\n",
              "          const docLinkHtml = 'Like what you see? Visit the ' +\n",
              "            '<a target=\"_blank\" href=https://colab.research.google.com/notebooks/data_table.ipynb>data table notebook</a>'\n",
              "            + ' to learn more about interactive tables.';\n",
              "          element.innerHTML = '';\n",
              "          dataTable['output_type'] = 'display_data';\n",
              "          await google.colab.output.renderOutput(dataTable, element);\n",
              "          const docLink = document.createElement('div');\n",
              "          docLink.innerHTML = docLinkHtml;\n",
              "          element.appendChild(docLink);\n",
              "        }\n",
              "      </script>\n",
              "    </div>\n",
              "  </div>\n",
              "  "
            ]
          },
          "metadata": {},
          "execution_count": 32
        }
      ]
    },
    {
      "cell_type": "code",
      "source": [
        "#test if all columns are fullfilled\n",
        "df.isnull().any()"
      ],
      "metadata": {
        "colab": {
          "base_uri": "https://localhost:8080/"
        },
        "id": "R810FBqjn4zX",
        "outputId": "deb6f349-1dc2-42ca-fada-b6a77fa1d399"
      },
      "execution_count": 33,
      "outputs": [
        {
          "output_type": "execute_result",
          "data": {
            "text/plain": [
              "Age          False\n",
              "sex          False\n",
              "cp           False\n",
              "trestblps    False\n",
              "chol         False\n",
              "fbs          False\n",
              "restecg      False\n",
              "thalach      False\n",
              "exang        False\n",
              "oldpeak      False\n",
              "slope        False\n",
              "ca           False\n",
              "thal         False\n",
              "target       False\n",
              "dtype: bool"
            ]
          },
          "metadata": {},
          "execution_count": 33
        }
      ]
    },
    {
      "cell_type": "code",
      "source": [
        "X = df.iloc[:,:13].values\n",
        "y = df['target'].values"
      ],
      "metadata": {
        "id": "MG1s-7rUrklf"
      },
      "execution_count": 34,
      "outputs": []
    },
    {
      "cell_type": "code",
      "source": [
        "#split the data\n",
        "X_train, X_test, y_train, y_test = train_test_split(X,y, test_size = 0.3, random_state=0)"
      ],
      "metadata": {
        "id": "FfjS94C5r4Yg"
      },
      "execution_count": 35,
      "outputs": []
    },
    {
      "cell_type": "code",
      "source": [
        "#Scale the data\n",
        "sc = StandardScaler()\n",
        "X_train = sc.fit_transform(X_train)\n",
        "X_test = sc.transform(X_test)"
      ],
      "metadata": {
        "id": "cePMwcRysz2B"
      },
      "execution_count": 36,
      "outputs": []
    },
    {
      "cell_type": "code",
      "source": [
        "#Building the model\n",
        "classifier = Sequential()\n",
        "classifier.add(Dense(activation = \"relu\", input_dim = 13, \n",
        "                     units = 8, kernel_initializer = \"uniform\"))\n",
        "classifier.add(Dense(activation = \"relu\", units = 14, \n",
        "                     kernel_initializer = \"uniform\"))\n",
        "classifier.add(Dense(activation = \"sigmoid\", units = 1, \n",
        "                     kernel_initializer = \"uniform\"))\n",
        "classifier.compile(optimizer = 'adam' , loss = 'binary_crossentropy', \n",
        "                   metrics = ['accuracy'] )"
      ],
      "metadata": {
        "id": "cmacexZEtqOG"
      },
      "execution_count": 37,
      "outputs": []
    },
    {
      "cell_type": "code",
      "source": [
        "#fitting the model\n",
        "classifier.fit(X_train , y_train , batch_size = 8 ,epochs = 100  )"
      ],
      "metadata": {
        "colab": {
          "base_uri": "https://localhost:8080/"
        },
        "id": "7eqaSt_Vtuyb",
        "outputId": "493b85e3-2af0-461a-b16a-414b0f742574"
      },
      "execution_count": 38,
      "outputs": [
        {
          "output_type": "stream",
          "name": "stdout",
          "text": [
            "Epoch 1/100\n",
            "26/26 [==============================] - 1s 3ms/step - loss: 0.6911 - accuracy: 0.6341\n",
            "Epoch 2/100\n",
            "26/26 [==============================] - 0s 4ms/step - loss: 0.6833 - accuracy: 0.6829\n",
            "Epoch 3/100\n",
            "26/26 [==============================] - 0s 3ms/step - loss: 0.6654 - accuracy: 0.8390\n",
            "Epoch 4/100\n",
            "26/26 [==============================] - 0s 1ms/step - loss: 0.6283 - accuracy: 0.8537\n",
            "Epoch 5/100\n",
            "26/26 [==============================] - 0s 1ms/step - loss: 0.5715 - accuracy: 0.8488\n",
            "Epoch 6/100\n",
            "26/26 [==============================] - 0s 1ms/step - loss: 0.5081 - accuracy: 0.8390\n",
            "Epoch 7/100\n",
            "26/26 [==============================] - 0s 2ms/step - loss: 0.4539 - accuracy: 0.8439\n",
            "Epoch 8/100\n",
            "26/26 [==============================] - 0s 1ms/step - loss: 0.4135 - accuracy: 0.8439\n",
            "Epoch 9/100\n",
            "26/26 [==============================] - 0s 2ms/step - loss: 0.3810 - accuracy: 0.8390\n",
            "Epoch 10/100\n",
            "26/26 [==============================] - 0s 1ms/step - loss: 0.3615 - accuracy: 0.8390\n",
            "Epoch 11/100\n",
            "26/26 [==============================] - 0s 1ms/step - loss: 0.3460 - accuracy: 0.8439\n",
            "Epoch 12/100\n",
            "26/26 [==============================] - 0s 1ms/step - loss: 0.3384 - accuracy: 0.8439\n",
            "Epoch 13/100\n",
            "26/26 [==============================] - 0s 1ms/step - loss: 0.3329 - accuracy: 0.8439\n",
            "Epoch 14/100\n",
            "26/26 [==============================] - 0s 2ms/step - loss: 0.3286 - accuracy: 0.8488\n",
            "Epoch 15/100\n",
            "26/26 [==============================] - 0s 1ms/step - loss: 0.3249 - accuracy: 0.8488\n",
            "Epoch 16/100\n",
            "26/26 [==============================] - 0s 1ms/step - loss: 0.3235 - accuracy: 0.8488\n",
            "Epoch 17/100\n",
            "26/26 [==============================] - 0s 1ms/step - loss: 0.3210 - accuracy: 0.8537\n",
            "Epoch 18/100\n",
            "26/26 [==============================] - 0s 1ms/step - loss: 0.3201 - accuracy: 0.8537\n",
            "Epoch 19/100\n",
            "26/26 [==============================] - 0s 2ms/step - loss: 0.3186 - accuracy: 0.8537\n",
            "Epoch 20/100\n",
            "26/26 [==============================] - 0s 1ms/step - loss: 0.3172 - accuracy: 0.8537\n",
            "Epoch 21/100\n",
            "26/26 [==============================] - 0s 1ms/step - loss: 0.3159 - accuracy: 0.8537\n",
            "Epoch 22/100\n",
            "26/26 [==============================] - 0s 2ms/step - loss: 0.3149 - accuracy: 0.8585\n",
            "Epoch 23/100\n",
            "26/26 [==============================] - 0s 2ms/step - loss: 0.3143 - accuracy: 0.8537\n",
            "Epoch 24/100\n",
            "26/26 [==============================] - 0s 1ms/step - loss: 0.3132 - accuracy: 0.8585\n",
            "Epoch 25/100\n",
            "26/26 [==============================] - 0s 1ms/step - loss: 0.3117 - accuracy: 0.8634\n",
            "Epoch 26/100\n",
            "26/26 [==============================] - 0s 1ms/step - loss: 0.3142 - accuracy: 0.8585\n",
            "Epoch 27/100\n",
            "26/26 [==============================] - 0s 2ms/step - loss: 0.3095 - accuracy: 0.8683\n",
            "Epoch 28/100\n",
            "26/26 [==============================] - 0s 1ms/step - loss: 0.3097 - accuracy: 0.8634\n",
            "Epoch 29/100\n",
            "26/26 [==============================] - 0s 1ms/step - loss: 0.3084 - accuracy: 0.8585\n",
            "Epoch 30/100\n",
            "26/26 [==============================] - 0s 1ms/step - loss: 0.3073 - accuracy: 0.8683\n",
            "Epoch 31/100\n",
            "26/26 [==============================] - 0s 1ms/step - loss: 0.3064 - accuracy: 0.8683\n",
            "Epoch 32/100\n",
            "26/26 [==============================] - 0s 1ms/step - loss: 0.3051 - accuracy: 0.8683\n",
            "Epoch 33/100\n",
            "26/26 [==============================] - 0s 2ms/step - loss: 0.3043 - accuracy: 0.8634\n",
            "Epoch 34/100\n",
            "26/26 [==============================] - 0s 1ms/step - loss: 0.3035 - accuracy: 0.8732\n",
            "Epoch 35/100\n",
            "26/26 [==============================] - 0s 1ms/step - loss: 0.3016 - accuracy: 0.8780\n",
            "Epoch 36/100\n",
            "26/26 [==============================] - 0s 1ms/step - loss: 0.3004 - accuracy: 0.8780\n",
            "Epoch 37/100\n",
            "26/26 [==============================] - 0s 1ms/step - loss: 0.2986 - accuracy: 0.8780\n",
            "Epoch 38/100\n",
            "26/26 [==============================] - 0s 2ms/step - loss: 0.2984 - accuracy: 0.8732\n",
            "Epoch 39/100\n",
            "26/26 [==============================] - 0s 2ms/step - loss: 0.2961 - accuracy: 0.8780\n",
            "Epoch 40/100\n",
            "26/26 [==============================] - 0s 1ms/step - loss: 0.2954 - accuracy: 0.8780\n",
            "Epoch 41/100\n",
            "26/26 [==============================] - 0s 1ms/step - loss: 0.2947 - accuracy: 0.8829\n",
            "Epoch 42/100\n",
            "26/26 [==============================] - 0s 1ms/step - loss: 0.2957 - accuracy: 0.8780\n",
            "Epoch 43/100\n",
            "26/26 [==============================] - 0s 1ms/step - loss: 0.2925 - accuracy: 0.8829\n",
            "Epoch 44/100\n",
            "26/26 [==============================] - 0s 1ms/step - loss: 0.2913 - accuracy: 0.8780\n",
            "Epoch 45/100\n",
            "26/26 [==============================] - 0s 2ms/step - loss: 0.2910 - accuracy: 0.8829\n",
            "Epoch 46/100\n",
            "26/26 [==============================] - 0s 2ms/step - loss: 0.2887 - accuracy: 0.8829\n",
            "Epoch 47/100\n",
            "26/26 [==============================] - 0s 1ms/step - loss: 0.2886 - accuracy: 0.8829\n",
            "Epoch 48/100\n",
            "26/26 [==============================] - 0s 1ms/step - loss: 0.2871 - accuracy: 0.8878\n",
            "Epoch 49/100\n",
            "26/26 [==============================] - 0s 1ms/step - loss: 0.2865 - accuracy: 0.8927\n",
            "Epoch 50/100\n",
            "26/26 [==============================] - 0s 1ms/step - loss: 0.2852 - accuracy: 0.8927\n",
            "Epoch 51/100\n",
            "26/26 [==============================] - 0s 1ms/step - loss: 0.2846 - accuracy: 0.8927\n",
            "Epoch 52/100\n",
            "26/26 [==============================] - 0s 1ms/step - loss: 0.2817 - accuracy: 0.8927\n",
            "Epoch 53/100\n",
            "26/26 [==============================] - 0s 2ms/step - loss: 0.2805 - accuracy: 0.8927\n",
            "Epoch 54/100\n",
            "26/26 [==============================] - 0s 1ms/step - loss: 0.2809 - accuracy: 0.8878\n",
            "Epoch 55/100\n",
            "26/26 [==============================] - 0s 2ms/step - loss: 0.2781 - accuracy: 0.8976\n",
            "Epoch 56/100\n",
            "26/26 [==============================] - 0s 2ms/step - loss: 0.2782 - accuracy: 0.8976\n",
            "Epoch 57/100\n",
            "26/26 [==============================] - 0s 2ms/step - loss: 0.2767 - accuracy: 0.8927\n",
            "Epoch 58/100\n",
            "26/26 [==============================] - 0s 1ms/step - loss: 0.2755 - accuracy: 0.8976\n",
            "Epoch 59/100\n",
            "26/26 [==============================] - 0s 2ms/step - loss: 0.2742 - accuracy: 0.8976\n",
            "Epoch 60/100\n",
            "26/26 [==============================] - 0s 1ms/step - loss: 0.2733 - accuracy: 0.8976\n",
            "Epoch 61/100\n",
            "26/26 [==============================] - 0s 1ms/step - loss: 0.2721 - accuracy: 0.8976\n",
            "Epoch 62/100\n",
            "26/26 [==============================] - 0s 1ms/step - loss: 0.2711 - accuracy: 0.8976\n",
            "Epoch 63/100\n",
            "26/26 [==============================] - 0s 1ms/step - loss: 0.2702 - accuracy: 0.8976\n",
            "Epoch 64/100\n",
            "26/26 [==============================] - 0s 1ms/step - loss: 0.2685 - accuracy: 0.8976\n",
            "Epoch 65/100\n",
            "26/26 [==============================] - 0s 1ms/step - loss: 0.2667 - accuracy: 0.9024\n",
            "Epoch 66/100\n",
            "26/26 [==============================] - 0s 2ms/step - loss: 0.2656 - accuracy: 0.9024\n",
            "Epoch 67/100\n",
            "26/26 [==============================] - 0s 2ms/step - loss: 0.2659 - accuracy: 0.8976\n",
            "Epoch 68/100\n",
            "26/26 [==============================] - 0s 1ms/step - loss: 0.2625 - accuracy: 0.9024\n",
            "Epoch 69/100\n",
            "26/26 [==============================] - 0s 1ms/step - loss: 0.2627 - accuracy: 0.9073\n",
            "Epoch 70/100\n",
            "26/26 [==============================] - 0s 1ms/step - loss: 0.2609 - accuracy: 0.9122\n",
            "Epoch 71/100\n",
            "26/26 [==============================] - 0s 1ms/step - loss: 0.2593 - accuracy: 0.9073\n",
            "Epoch 72/100\n",
            "26/26 [==============================] - 0s 1ms/step - loss: 0.2586 - accuracy: 0.9122\n",
            "Epoch 73/100\n",
            "26/26 [==============================] - 0s 1ms/step - loss: 0.2559 - accuracy: 0.9122\n",
            "Epoch 74/100\n",
            "26/26 [==============================] - 0s 1ms/step - loss: 0.2542 - accuracy: 0.9171\n",
            "Epoch 75/100\n",
            "26/26 [==============================] - 0s 1ms/step - loss: 0.2530 - accuracy: 0.9220\n",
            "Epoch 76/100\n",
            "26/26 [==============================] - 0s 2ms/step - loss: 0.2507 - accuracy: 0.9220\n",
            "Epoch 77/100\n",
            "26/26 [==============================] - 0s 1ms/step - loss: 0.2493 - accuracy: 0.9171\n",
            "Epoch 78/100\n",
            "26/26 [==============================] - 0s 1ms/step - loss: 0.2471 - accuracy: 0.9220\n",
            "Epoch 79/100\n",
            "26/26 [==============================] - 0s 1ms/step - loss: 0.2459 - accuracy: 0.9220\n",
            "Epoch 80/100\n",
            "26/26 [==============================] - 0s 1ms/step - loss: 0.2450 - accuracy: 0.9220\n",
            "Epoch 81/100\n",
            "26/26 [==============================] - 0s 1ms/step - loss: 0.2437 - accuracy: 0.9220\n",
            "Epoch 82/100\n",
            "26/26 [==============================] - 0s 2ms/step - loss: 0.2409 - accuracy: 0.9268\n",
            "Epoch 83/100\n",
            "26/26 [==============================] - 0s 1ms/step - loss: 0.2403 - accuracy: 0.9220\n",
            "Epoch 84/100\n",
            "26/26 [==============================] - 0s 1ms/step - loss: 0.2387 - accuracy: 0.9220\n",
            "Epoch 85/100\n",
            "26/26 [==============================] - 0s 1ms/step - loss: 0.2368 - accuracy: 0.9220\n",
            "Epoch 86/100\n",
            "26/26 [==============================] - 0s 1ms/step - loss: 0.2354 - accuracy: 0.9220\n",
            "Epoch 87/100\n",
            "26/26 [==============================] - 0s 1ms/step - loss: 0.2334 - accuracy: 0.9220\n",
            "Epoch 88/100\n",
            "26/26 [==============================] - 0s 2ms/step - loss: 0.2324 - accuracy: 0.9220\n",
            "Epoch 89/100\n",
            "26/26 [==============================] - 0s 2ms/step - loss: 0.2315 - accuracy: 0.9171\n",
            "Epoch 90/100\n",
            "26/26 [==============================] - 0s 1ms/step - loss: 0.2296 - accuracy: 0.9220\n",
            "Epoch 91/100\n",
            "26/26 [==============================] - 0s 1ms/step - loss: 0.2300 - accuracy: 0.9220\n",
            "Epoch 92/100\n",
            "26/26 [==============================] - 0s 1ms/step - loss: 0.2277 - accuracy: 0.9171\n",
            "Epoch 93/100\n",
            "26/26 [==============================] - 0s 1ms/step - loss: 0.2266 - accuracy: 0.9171\n",
            "Epoch 94/100\n",
            "26/26 [==============================] - 0s 1ms/step - loss: 0.2247 - accuracy: 0.9220\n",
            "Epoch 95/100\n",
            "26/26 [==============================] - 0s 2ms/step - loss: 0.2242 - accuracy: 0.9220\n",
            "Epoch 96/100\n",
            "26/26 [==============================] - 0s 2ms/step - loss: 0.2214 - accuracy: 0.9220\n",
            "Epoch 97/100\n",
            "26/26 [==============================] - 0s 2ms/step - loss: 0.2198 - accuracy: 0.9220\n",
            "Epoch 98/100\n",
            "26/26 [==============================] - 0s 2ms/step - loss: 0.2184 - accuracy: 0.9268\n",
            "Epoch 99/100\n",
            "26/26 [==============================] - 0s 2ms/step - loss: 0.2169 - accuracy: 0.9268\n",
            "Epoch 100/100\n",
            "26/26 [==============================] - 0s 2ms/step - loss: 0.2152 - accuracy: 0.9268\n"
          ]
        },
        {
          "output_type": "execute_result",
          "data": {
            "text/plain": [
              "<keras.callbacks.History at 0x7f64f67879d0>"
            ]
          },
          "metadata": {},
          "execution_count": 38
        }
      ]
    },
    {
      "cell_type": "code",
      "source": [
        "#performind prediction and rescaling\n",
        "y_pred = classifier.predict(X_test)\n",
        "y_pred = (y_pred > 0.5)"
      ],
      "metadata": {
        "id": "h21HXWaRt52D"
      },
      "execution_count": 40,
      "outputs": []
    },
    {
      "cell_type": "code",
      "source": [
        "#Confusion Matrix\n",
        "cm = confusion_matrix(y_test,y_pred)\n",
        "cm"
      ],
      "metadata": {
        "colab": {
          "base_uri": "https://localhost:8080/"
        },
        "id": "lNtsS4ACt-qL",
        "outputId": "6fdcc7ab-a1b0-4aa7-ca0a-e6766b55d64f"
      },
      "execution_count": 41,
      "outputs": [
        {
          "output_type": "execute_result",
          "data": {
            "text/plain": [
              "array([[44,  8],\n",
              "       [10, 26]])"
            ]
          },
          "metadata": {},
          "execution_count": 41
        }
      ]
    },
    {
      "cell_type": "code",
      "source": [
        "#Accuracy\n",
        "accuracy = (cm[0][0]+cm[1][1])/(cm[0][1] + cm[1][0] +cm[0][0] +cm[1][1])\n",
        "print(accuracy*100)"
      ],
      "metadata": {
        "colab": {
          "base_uri": "https://localhost:8080/"
        },
        "id": "vWMg3Z92uLKg",
        "outputId": "910fe65f-6de5-4156-ad2e-51edf4e8fae9"
      },
      "execution_count": 42,
      "outputs": [
        {
          "output_type": "stream",
          "name": "stdout",
          "text": [
            "79.54545454545455\n"
          ]
        }
      ]
    },
    {
      "cell_type": "markdown",
      "source": [
        ""
      ],
      "metadata": {
        "id": "g-mQhZSpkS1T"
      }
    }
  ]
}